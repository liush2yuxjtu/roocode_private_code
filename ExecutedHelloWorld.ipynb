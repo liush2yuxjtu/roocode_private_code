{
 "cells": [
  {
   "cell_type": "code",
   "execution_count": 1,
   "id": "0fa6c692",
   "metadata": {
    "execution": {
     "iopub.execute_input": "2025-03-05T11:56:13.849935Z",
     "iopub.status.busy": "2025-03-05T11:56:13.849546Z",
     "iopub.status.idle": "2025-03-05T11:56:13.855383Z",
     "shell.execute_reply": "2025-03-05T11:56:13.854754Z"
    }
   },
   "outputs": [
    {
     "name": "stdout",
     "output_type": "stream",
     "text": [
      "Hello World from HPC via Jupyter!\n"
     ]
    }
   ],
   "source": [
    "print(\"Hello World from HPC via Jupyter!\")"
   ]
  }
 ],
 "metadata": {
  "kernelspec": {
   "display_name": "Python 3",
   "name": "python3"
  },
  "language_info": {
   "codemirror_mode": {
    "name": "ipython",
    "version": 3
   },
   "file_extension": ".py",
   "mimetype": "text/x-python",
   "name": "python",
   "nbconvert_exporter": "python",
   "pygments_lexer": "ipython3",
   "version": "3.13.2"
  }
 },
 "nbformat": 4,
 "nbformat_minor": 5
}
